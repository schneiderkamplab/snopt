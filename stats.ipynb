{
 "cells": [
  {
   "cell_type": "code",
   "execution_count": null,
   "id": "c1dcba67",
   "metadata": {},
   "outputs": [],
   "source": [
    "import sys\n",
    "!{sys.executable} -m pip install --upgrade matplotlib pandas pip\n",
    "import matplotlib.pyplot as plt\n",
    "import pandas as pd"
   ]
  },
  {
   "cell_type": "code",
   "execution_count": null,
   "id": "be8bafb0",
   "metadata": {},
   "outputs": [],
   "source": [
    "!./results.sh\n",
    "df = pd.read_csv(\"results/results.csv\")"
   ]
  },
  {
   "cell_type": "code",
   "execution_count": null,
   "id": "a0cabecc",
   "metadata": {},
   "outputs": [],
   "source": [
    "sr = df.to_dict(orient=\"records\")"
   ]
  },
  {
   "cell_type": "code",
   "execution_count": null,
   "id": "87d909b9",
   "metadata": {},
   "outputs": [],
   "source": [
    "assert all([r[\"saved\"] == 0 for r in sr if (not r[\"try_min\"] and not r[\"try_max\"]) or (not r[\"do_max\"] and not r[\"try_min\"]) or (r[\"do_max\"] and not r[\"try_max\"])])"
   ]
  },
  {
   "cell_type": "code",
   "execution_count": null,
   "id": "8bfab573",
   "metadata": {},
   "outputs": [],
   "source": [
    "dr = pd.merge(df, df, on=[\"num_inputs\", \"sn_type\"]).to_dict(orient=\"records\")"
   ]
  },
  {
   "cell_type": "code",
   "execution_count": null,
   "id": "8994bc72",
   "metadata": {},
   "outputs": [],
   "source": [
    "rs = [f'{r[\"num_inputs\"]},{r[\"sn_type\"]},{r[\"saved_x\"]},{r[\"num_registers_x\"]},{r[\"saved_y\"]},{r[\"num_registers_y\"]}' for r in dr if r[\"saved_x\"] != r[\"saved_y\"] and not r[\"do_max_x\"] and r[\"do_max_y\"] and r[\"try_min_x\"] and not r[\"try_min_y\"] and not r[\"try_max_x\"] and r[\"try_max_y\"]]\n",
    "p = \"num_inputs,sn_type,saved_min,num_registers_min,saved_max,num_registers_max\\n\"+\"\\n\".join(rs)\n",
    "print(p)"
   ]
  },
  {
   "cell_type": "code",
   "execution_count": null,
   "id": "ba72aeb8",
   "metadata": {},
   "outputs": [],
   "source": [
    "assert all([r[\"saved_x\"] == r[\"saved_y\"] for r in dr if r[\"do_max_y\"] == r[\"try_max_y\"] and r[\"do_max_x\"] == r[\"do_max_y\"] and r[\"try_min_x\"] and r[\"try_max_x\"] and (r[\"try_min_y\"] != r[\"try_max_y\"])])"
   ]
  },
  {
   "cell_type": "code",
   "execution_count": null,
   "id": "6998298f",
   "metadata": {},
   "outputs": [],
   "source": [
    "#TODO: graph num of extra registers vs instructions saved\n",
    "saved_pct_min = [r[\"saved\"]/(r[\"saved\"]+r[\"length\"]) for r in sr if not r[\"do_max\"] and not r[\"try_max\"] and r[\"try_min\"]]\n",
    "plt.boxplot(saved_pct_min)\n",
    "sum(saved_pct_min) / len(saved_pct_min)"
   ]
  },
  {
   "cell_type": "code",
   "execution_count": null,
   "id": "be3a1bea",
   "metadata": {
    "scrolled": true
   },
   "outputs": [],
   "source": [
    "#TODO: graph num of extra registers vs instructions saved\n",
    "saved_pct_max = [r[\"saved\"]/(r[\"saved\"]+r[\"length\"]) for r in sr if r[\"do_max\"] and r[\"try_max\"] and not r[\"try_min\"]]\n",
    "plt.boxplot(saved_pct_max)\n",
    "sum(saved_pct_max) / len(saved_pct_max)"
   ]
  },
  {
   "cell_type": "code",
   "execution_count": null,
   "id": "f8199122",
   "metadata": {},
   "outputs": [],
   "source": [
    "num_registers_pct = [r[\"num_registers\"]/(1+r[\"num_inputs\"])-1 for r in sr if r[\"do_max\"] and r[\"try_max\"] and not r[\"try_min\"]]\n",
    "plt.boxplot(num_registers_pct)\n",
    "sum(num_registers_pct) / len(num_registers_pct)"
   ]
  },
  {
   "cell_type": "code",
   "execution_count": null,
   "id": "a9ec6a78",
   "metadata": {},
   "outputs": [],
   "source": [
    "#TODO: compile to Python for easy testing"
   ]
  },
  {
   "cell_type": "code",
   "execution_count": null,
   "id": "cbc301ff",
   "metadata": {},
   "outputs": [],
   "source": []
  }
 ],
 "metadata": {
  "kernelspec": {
   "display_name": "Python 3 (ipykernel)",
   "language": "python",
   "name": "python3"
  },
  "language_info": {
   "codemirror_mode": {
    "name": "ipython",
    "version": 3
   },
   "file_extension": ".py",
   "mimetype": "text/x-python",
   "name": "python",
   "nbconvert_exporter": "python",
   "pygments_lexer": "ipython3",
   "version": "3.11.2"
  }
 },
 "nbformat": 4,
 "nbformat_minor": 5
}
