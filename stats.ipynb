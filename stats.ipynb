{
 "cells": [
  {
   "cell_type": "code",
   "execution_count": 1,
   "id": "c1dcba67",
   "metadata": {},
   "outputs": [
    {
     "name": "stdout",
     "output_type": "stream",
     "text": [
      "Requirement already satisfied: matplotlib in /Users/petersk/anaconda3/lib/python3.10/site-packages (3.7.0)\n",
      "Collecting matplotlib\n",
      "  Using cached matplotlib-3.7.2-cp310-cp310-macosx_11_0_arm64.whl (7.3 MB)\n",
      "Requirement already satisfied: pandas in /Users/petersk/anaconda3/lib/python3.10/site-packages (1.5.3)\n",
      "Collecting pandas\n",
      "  Using cached pandas-2.0.3-cp310-cp310-macosx_11_0_arm64.whl (10.8 MB)\n",
      "Requirement already satisfied: pip in /Users/petersk/anaconda3/lib/python3.10/site-packages (22.3.1)\n",
      "Collecting pip\n",
      "  Using cached pip-23.2-py3-none-any.whl (2.1 MB)\n",
      "Requirement already satisfied: packaging>=20.0 in /Users/petersk/anaconda3/lib/python3.10/site-packages (from matplotlib) (22.0)\n",
      "Requirement already satisfied: cycler>=0.10 in /Users/petersk/anaconda3/lib/python3.10/site-packages (from matplotlib) (0.11.0)\n",
      "Requirement already satisfied: kiwisolver>=1.0.1 in /Users/petersk/anaconda3/lib/python3.10/site-packages (from matplotlib) (1.4.4)\n",
      "Requirement already satisfied: pyparsing<3.1,>=2.3.1 in /Users/petersk/anaconda3/lib/python3.10/site-packages (from matplotlib) (3.0.9)\n",
      "Requirement already satisfied: numpy>=1.20 in /Users/petersk/anaconda3/lib/python3.10/site-packages (from matplotlib) (1.23.5)\n",
      "Requirement already satisfied: python-dateutil>=2.7 in /Users/petersk/anaconda3/lib/python3.10/site-packages (from matplotlib) (2.8.2)\n",
      "Requirement already satisfied: fonttools>=4.22.0 in /Users/petersk/anaconda3/lib/python3.10/site-packages (from matplotlib) (4.25.0)\n",
      "Requirement already satisfied: pillow>=6.2.0 in /Users/petersk/anaconda3/lib/python3.10/site-packages (from matplotlib) (9.4.0)\n",
      "Requirement already satisfied: contourpy>=1.0.1 in /Users/petersk/anaconda3/lib/python3.10/site-packages (from matplotlib) (1.0.5)\n",
      "Collecting tzdata>=2022.1\n",
      "  Using cached tzdata-2023.3-py2.py3-none-any.whl (341 kB)\n",
      "Requirement already satisfied: pytz>=2020.1 in /Users/petersk/anaconda3/lib/python3.10/site-packages (from pandas) (2022.7)\n",
      "Requirement already satisfied: six>=1.5 in /Users/petersk/anaconda3/lib/python3.10/site-packages (from python-dateutil>=2.7->matplotlib) (1.16.0)\n",
      "Installing collected packages: tzdata, pip, pandas, matplotlib\n",
      "  Attempting uninstall: pip\n",
      "    Found existing installation: pip 22.3.1\n",
      "    Uninstalling pip-22.3.1:\n",
      "      Successfully uninstalled pip-22.3.1\n",
      "  Attempting uninstall: pandas\n",
      "    Found existing installation: pandas 1.5.3\n",
      "    Uninstalling pandas-1.5.3:\n",
      "      Successfully uninstalled pandas-1.5.3\n",
      "  Attempting uninstall: matplotlib\n",
      "    Found existing installation: matplotlib 3.7.0\n",
      "    Uninstalling matplotlib-3.7.0:\n",
      "      Successfully uninstalled matplotlib-3.7.0\n",
      "Successfully installed matplotlib-3.7.2 pandas-2.0.3 pip-23.2 tzdata-2023.3\n"
     ]
    }
   ],
   "source": [
    "import sys\n",
    "!{sys.executable} -m pip install --upgrade matplotlib pandas pip\n",
    "import matplotlib.pyplot as plt\n",
    "import pandas as pd"
   ]
  },
  {
   "cell_type": "code",
   "execution_count": 2,
   "id": "be8bafb0",
   "metadata": {},
   "outputs": [],
   "source": [
    "!./results.sh\n",
    "df = pd.read_csv(\"results/results.csv\")"
   ]
  },
  {
   "cell_type": "code",
   "execution_count": 3,
   "id": "a0cabecc",
   "metadata": {},
   "outputs": [],
   "source": [
    "sr = df.to_dict(orient=\"records\")"
   ]
  },
  {
   "cell_type": "code",
   "execution_count": 4,
   "id": "87d909b9",
   "metadata": {},
   "outputs": [],
   "source": [
    "assert all([r[\"saved\"] == 0 for r in sr if (not r[\"try_min\"] and not r[\"try_max\"]) or (not r[\"do_max\"] and not r[\"try_min\"]) or (r[\"do_max\"] and not r[\"try_max\"])])"
   ]
  },
  {
   "cell_type": "code",
   "execution_count": 5,
   "id": "8bfab573",
   "metadata": {},
   "outputs": [],
   "source": [
    "dr = pd.merge(df, df, on=[\"num_inputs\", \"sn_type\"]).to_dict(orient=\"records\")"
   ]
  },
  {
   "cell_type": "code",
   "execution_count": 6,
   "id": "8994bc72",
   "metadata": {},
   "outputs": [
    {
     "name": "stdout",
     "output_type": "stream",
     "text": [
      "num_inputs,sn_type,saved_min,num_registers_min,saved_max,num_registers_max\n",
      "3,jgamble_best,1,4,0,4\n",
      "3,jgamble_bosenelson,1,4,0,4\n",
      "3,jgamble_hibbard,0,4,1,4\n",
      "3,batcher_opt3,1,4,0,4\n",
      "3,bosenelson_normal,1,4,0,4\n",
      "3,bosenelson_opt3,1,4,0,4\n",
      "3,mirrored,0,4,1,4\n",
      "4,r1,0,5,3,6\n",
      "4,r2,0,5,2,6\n",
      "5,jgamble_best,3,6,1,7\n",
      "5,jgamble_bosenelson,3,6,1,7\n",
      "5,jgamble_hibbard,0,6,3,6\n",
      "5,batcher_opt3,3,6,1,7\n",
      "5,bosenelson_normal,3,7,1,7\n",
      "5,bosenelson_opt3,3,6,1,7\n",
      "6,jgamble_best,3,8,1,7\n",
      "6,jgamble_bosenelson,3,8,1,7\n",
      "6,jgamble_hibbard,0,7,2,8\n",
      "6,gap,0,7,2,8\n",
      "6,good,3,8,1,7\n",
      "6,batcher_opt3,3,8,1,7\n",
      "6,bosenelson_normal,3,7,1,8\n",
      "6,bosenelson_opt3,3,8,1,7\n",
      "7,jgamble_best,4,9,1,9\n",
      "7,jgamble_bosenelson,4,9,1,9\n",
      "7,jgamble_hibbard,1,9,4,10\n",
      "7,minout,2,10,1,9\n",
      "7,batcher_opt3,4,9,1,9\n",
      "7,bosenelson_normal,4,10,1,9\n",
      "7,bosenelson_opt3,4,9,1,9\n",
      "9,jgamble_bosenelson,8,12,5,13\n",
      "9,jgamble_hibbard,1,11,8,12\n",
      "9,gap,0,10,2,12\n",
      "9,bad,0,10,2,12\n",
      "9,good,0,10,2,12\n",
      "9,minout,1,10,3,11\n",
      "9,bosenelson_normal,8,13,5,13\n",
      "10,jgamble_bosenelson,10,16,6,13\n",
      "10,jgamble_hibbard,1,12,7,14\n",
      "10,minout,3,13,2,12\n",
      "10,bosenelson_normal,10,15,6,13\n",
      "11,jgamble_best,0,12,2,13\n",
      "11,jgamble_bosenelson,13,17,7,15\n",
      "11,jgamble_hibbard,3,15,11,16\n",
      "11,minout,3,15,4,16\n",
      "11,batcher_opt3,0,12,2,13\n",
      "11,bosenelson_normal,13,16,7,17\n",
      "11,bosenelson_opt3,0,12,2,13\n",
      "12,jgamble_bosenelson,11,18,7,17\n",
      "12,jgamble_hibbard,3,16,7,15\n",
      "12,minout,0,13,4,16\n",
      "12,bosenelson_normal,11,16,7,19\n",
      "13,jgamble_bosenelson,16,21,8,17\n",
      "13,jgamble_hibbard,6,17,13,20\n",
      "13,minout,3,16,5,17\n",
      "13,bosenelson_normal,16,20,8,18\n",
      "14,jgamble_best,0,15,2,17\n",
      "14,jgamble_bosenelson,14,20,9,19\n",
      "14,jgamble_hibbard,6,19,11,22\n",
      "14,bosenelson_opt1,14,20,9,19\n",
      "14,batcher_opt3,11,19,5,17\n",
      "14,bosenelson_normal,14,21,9,19\n",
      "14,bosenelson_opt3,14,21,9,19\n",
      "15,jgamble_best,0,16,1,17\n",
      "15,jgamble_bosenelson,14,22,8,20\n",
      "15,jgamble_hibbard,8,19,14,24\n",
      "15,bosenelson_opt1,14,22,8,20\n",
      "15,batcher_opt3,8,20,5,19\n",
      "15,bosenelson_normal,14,22,8,20\n",
      "15,bosenelson_opt3,14,22,8,20\n",
      "17,jgamble_bosenelson,23,25,19,29\n",
      "17,jgamble_hibbard,8,24,23,24\n",
      "17,bosenelson_opt1,23,26,19,29\n",
      "17,bosenelson_normal,23,27,19,29\n",
      "17,bosenelson_opt3,16,25,15,28\n",
      "18,jgamble_bosenelson,29,31,23,29\n",
      "18,jgamble_hibbard,8,25,22,31\n",
      "18,bosenelson_opt1,29,30,23,28\n",
      "18,bosenelson_normal,29,34,23,28\n",
      "19,jgamble_bosenelson,36,34,27,31\n",
      "19,jgamble_hibbard,12,29,30,32\n",
      "19,bosenelson_opt1,36,32,27,31\n",
      "19,bosenelson_normal,36,35,27,33\n",
      "19,bosenelson_opt3,19,28,17,30\n",
      "20,jgamble_bosenelson,36,38,28,34\n",
      "20,jgamble_hibbard,12,30,24,31\n",
      "20,bosenelson_opt1,36,36,28,34\n",
      "20,bosenelson_normal,36,39,28,33\n",
      "21,jgamble_bosenelson,45,41,32,35\n",
      "21,jgamble_hibbard,18,34,34,34\n",
      "21,opt_bosenelson,45,40,32,35\n",
      "21,opt_opt_bosenelson,43,42,31,39\n",
      "21,opt_hibbard,18,34,34,35\n",
      "21,bosenelson_opt1,45,40,32,35\n",
      "21,batcher_opt3,6,25,8,27\n",
      "21,bosenelson_normal,45,40,32,39\n",
      "21,bosenelson_opt3,22,32,21,33\n",
      "22,jgamble_bosenelson,45,41,34,40\n",
      "22,jgamble_hibbard,18,38,32,40\n",
      "22,bosenelson_opt1,45,41,34,38\n",
      "22,batcher_opt3,6,26,10,29\n",
      "22,bosenelson_normal,45,38,34,43\n",
      "22,bosenelson_opt3,19,31,24,35\n",
      "23,jgamble_bosenelson,47,45,34,41\n",
      "23,jgamble_hibbard,21,38,37,43\n",
      "23,bosenelson_opt1,47,44,34,39\n",
      "23,batcher_opt3,7,27,9,30\n",
      "23,bosenelson_normal,47,39,34,45\n",
      "23,bosenelson_opt3,23,34,22,35\n",
      "24,jgamble_bosenelson,42,46,34,42\n",
      "24,jgamble_hibbard,21,41,29,40\n",
      "24,bosenelson_opt1,42,45,34,41\n",
      "24,bosenelson_normal,42,39,34,47\n",
      "25,jgamble_bosenelson,55,52,38,43\n",
      "25,jgamble_hibbard,28,43,43,46\n",
      "25,opt_bosenelson,23,42,21,42\n",
      "25,opt_hibbard,28,42,43,45\n",
      "25,bosenelson_opt1,52,50,34,41\n",
      "25,hibbard_opt1,28,42,43,45\n",
      "25,bosenelson_normal,55,47,38,47\n",
      "25,bosenelson_opt3,28,39,23,37\n",
      "26,jgamble_bosenelson,55,55,42,44\n",
      "26,jgamble_hibbard,28,44,41,50\n",
      "26,opt_batcher,16,35,15,39\n",
      "26,opt_bosenelson,55,53,42,44\n",
      "26,opt_hibbard,28,43,41,49\n",
      "26,bosenelson_opt1,55,52,42,45\n",
      "26,hibbard_opt1,28,43,41,49\n",
      "26,bosenelson_normal,55,49,42,47\n",
      "26,bosenelson_opt3,23,38,26,39\n",
      "27,jgamble_bosenelson,58,52,43,45\n",
      "27,jgamble_hibbard,32,45,48,52\n",
      "27,bosenelson_opt1,58,52,43,46\n",
      "27,hibbard_opt1,32,45,48,51\n",
      "27,batcher_opt3,18,36,12,35\n",
      "27,bosenelson_normal,58,50,43,47\n",
      "27,bosenelson_opt3,42,46,35,43\n",
      "28,jgamble_bosenelson,52,53,45,46\n",
      "28,jgamble_hibbard,32,49,41,50\n",
      "28,bosenelson_opt1,52,49,45,50\n",
      "28,hibbard_opt1,32,49,41,50\n",
      "28,batcher_opt3,29,41,17,38\n",
      "28,bosenelson_normal,52,54,45,49\n",
      "28,bosenelson_opt3,52,54,45,49\n",
      "29,jgamble_bosenelson,58,57,43,49\n",
      "29,jgamble_hibbard,38,50,50,52\n",
      "29,opt_hibbard,38,49,50,55\n",
      "29,bosenelson_opt1,58,53,43,49\n",
      "29,hibbard_opt1,38,48,50,55\n",
      "29,batcher_opt3,26,42,17,40\n",
      "29,bosenelson_normal,58,59,43,48\n",
      "29,bosenelson_opt3,58,58,43,48\n",
      "30,jgamble_bosenelson,53,55,44,51\n",
      "30,jgamble_hibbard,38,57,47,56\n",
      "30,bosenelson_opt1,53,55,44,51\n",
      "30,hibbard_opt1,38,55,47,57\n",
      "30,batcher_opt3,23,43,17,42\n",
      "30,bosenelson_normal,53,58,44,50\n",
      "30,bosenelson_opt3,53,57,44,50\n",
      "31,jgamble_bosenelson,51,54,41,50\n",
      "31,jgamble_hibbard,41,52,51,58\n",
      "31,bosenelson_opt1,51,54,41,52\n",
      "31,hibbard_opt1,33,49,37,59\n",
      "31,batcher_opt3,20,44,17,44\n",
      "31,bosenelson_normal,51,59,41,52\n",
      "31,bosenelson_opt3,51,59,41,52\n",
      "32,opt_hibbard,39,54,40,56\n",
      "32,opt_bosenelson,38,54,41,56\n"
     ]
    }
   ],
   "source": [
    "rs = [f'{r[\"num_inputs\"]},{r[\"sn_type\"]},{r[\"saved_x\"]},{r[\"num_registers_x\"]},{r[\"saved_y\"]},{r[\"num_registers_y\"]}' for r in dr if r[\"saved_x\"] != r[\"saved_y\"] and not r[\"do_max_x\"] and r[\"do_max_y\"] and r[\"try_min_x\"] and not r[\"try_min_y\"] and not r[\"try_max_x\"] and r[\"try_max_y\"]]\n",
    "p = \"num_inputs,sn_type,saved_min,num_registers_min,saved_max,num_registers_max\\n\"+\"\\n\".join(rs)\n",
    "print(p)"
   ]
  },
  {
   "cell_type": "code",
   "execution_count": 7,
   "id": "ba72aeb8",
   "metadata": {},
   "outputs": [],
   "source": [
    "assert all([r[\"saved_x\"] == r[\"saved_y\"] for r in dr if r[\"do_max_y\"] == r[\"try_max_y\"] and r[\"do_max_x\"] == r[\"do_max_y\"] and r[\"try_min_x\"] and r[\"try_max_x\"] and (r[\"try_min_y\"] != r[\"try_max_y\"])])"
   ]
  },
  {
   "cell_type": "code",
   "execution_count": 13,
   "id": "6998298f",
   "metadata": {},
   "outputs": [
    {
     "data": {
      "text/plain": [
       "0.03728877987620017"
      ]
     },
     "execution_count": 13,
     "metadata": {},
     "output_type": "execute_result"
    },
    {
     "data": {
      "image/png": "[encoded data removed]",
      "text/plain": [
       "<Figure size 640x480 with 1 Axes>"
      ]
     },
     "metadata": {},
     "output_type": "display_data"
    }
   ],
   "source": [
    "#TODO: graph num of extra registers vs instructions saved\n",
    "saved_pct_min = [r[\"saved\"]/(r[\"saved\"]+r[\"length\"]) for r in sr if not r[\"do_max\"] and not r[\"try_max\"] and r[\"try_min\"]]\n",
    "plt.boxplot(saved_pct_min)\n",
    "sum(saved_pct_min) / len(saved_pct_min)"
   ]
  },
  {
   "cell_type": "code",
   "execution_count": 9,
   "id": "be3a1bea",
   "metadata": {
    "scrolled": true
   },
   "outputs": [
    {
     "data": {
      "text/plain": [
       "0.03821539397550761"
      ]
     },
     "execution_count": 9,
     "metadata": {},
     "output_type": "execute_result"
    },
    {
     "data": {
      "image/png": "[encoded data removed]",
      "text/plain": [
       "<Figure size 640x480 with 1 Axes>"
      ]
     },
     "metadata": {},
     "output_type": "display_data"
    }
   ],
   "source": [
    "#TODO: graph num of extra registers vs instructions saved\n",
    "saved_pct_max = [r[\"saved\"]/(r[\"saved\"]+r[\"length\"]) for r in sr if r[\"do_max\"] and r[\"try_max\"] and not r[\"try_min\"]]\n",
    "plt.boxplot(saved_pct_max)\n",
    "sum(saved_pct_max) / len(saved_pct_max)"
   ]
  },
  {
   "cell_type": "code",
   "execution_count": 10,
   "id": "f8199122",
   "metadata": {},
   "outputs": [
    {
     "data": {
      "text/plain": [
       "0.3019099243013179"
      ]
     },
     "execution_count": 10,
     "metadata": {},
     "output_type": "execute_result"
    },
    {
     "data": {
      "image/png": "[encoded data removed]",
      "text/plain": [
       "<Figure size 640x480 with 1 Axes>"
      ]
     },
     "metadata": {},
     "output_type": "display_data"
    }
   ],
   "source": [
    "num_registers_pct = [r[\"num_registers\"]/(1+r[\"num_inputs\"])-1 for r in sr if r[\"do_max\"] and r[\"try_max\"] and not r[\"try_min\"]]\n",
    "plt.boxplot(num_registers_pct)\n",
    "sum(num_registers_pct) / len(num_registers_pct)"
   ]
  },
  {
   "cell_type": "code",
   "execution_count": 11,
   "id": "a9ec6a78",
   "metadata": {},
   "outputs": [],
   "source": [
    "#TODO: compile to Python for easy testing"
   ]
  },
  {
   "cell_type": "code",
   "execution_count": null,
   "id": "cbc301ff",
   "metadata": {},
   "outputs": [],
   "source": []
  }
 ],
 "metadata": {
  "kernelspec": {
   "display_name": "Python 3 (ipykernel)",
   "language": "python",
   "name": "python3"
  },
  "language_info": {
   "codemirror_mode": {
    "name": "ipython",
    "version": 3
   },
   "file_extension": ".py",
   "mimetype": "text/x-python",
   "name": "python",
   "nbconvert_exporter": "python",
   "pygments_lexer": "ipython3",
   "version": "3.10.9"
  }
 },
 "nbformat": 4,
 "nbformat_minor": 5
}
